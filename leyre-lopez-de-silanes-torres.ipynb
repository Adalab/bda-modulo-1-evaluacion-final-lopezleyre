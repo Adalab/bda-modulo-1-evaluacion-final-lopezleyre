{
 "cells": [
  {
   "cell_type": "code",
   "execution_count": 388,
   "metadata": {},
   "outputs": [],
   "source": [
    "# Vamos a crear una clase \"TiendaOnline\"\n",
    "import re\n",
    "\n",
    "class TiendaOnline:\n",
    "    \n",
    "    def __init__(self):\n",
    "        \n",
    "        self.inventario = [] # [{nombre: x, precio: x, cantidad: x},...]\n",
    "        self.clientes = {} # {\"cliente1\":{\"email: x\", \"compras\": x}}\n",
    "        self.ventas_totales = 0.0\n",
    "    \n",
    "# Definimos los métodos\n",
    "\n",
    "    def agregar_producto (self, nombre, precio, cantidad):\n",
    "        \n",
    "        nombre = nombre.lower() # nos aseguramos que no haya diferencia entra mayusculas y minusculas\n",
    "        \n",
    "        for producto in self.inventario: # para el conjunto del producto (nombre, precio, cantidad)\n",
    "            \n",
    "            if producto [\"nombre\"].lower() == nombre: \n",
    "                producto [\"cantidad\"] += cantidad\n",
    "                \n",
    "                return f\"El producto ya existe, por lo que se ha actualizado la cantidad disponible a {producto[\"cantidad\"]} {nombre}.\"\n",
    "            else:\n",
    "                pass\n",
    "        \n",
    "        # Creamos el nuevo producto fuera del bucle for, porque sino se para el bucle\n",
    "        nuevo_producto = {\"nombre\": nombre, \"precio\": precio, \"cantidad\": cantidad}\n",
    "                \n",
    "        self.inventario.append(nuevo_producto)\n",
    "            \n",
    "        print(f\"Se ha añadido {nombre} a nuestro inventario.\")\n",
    "        return f\"Nuestro inventario actualizado es: {self.inventario}\"\n",
    "\n",
    "        \n",
    "    def ver_inventario (self):\n",
    "        \n",
    "        for producto in self.inventario:\n",
    "    \n",
    "        # Hay que llamar a print dentro del bucle for para que nos de toda la info, porque cuando hay un \"return\" sin condición el bucle se para.\n",
    "            print(f\"Nombre: {producto[\"nombre\"].capitalize()}, Precio: ${producto[\"precio\"]}, Cantidad: {producto[\"cantidad\"]}\")\n",
    "\n",
    "    \n",
    "    def buscar_producto (self, nombre):\n",
    "        \n",
    "        nombre = nombre.lower()\n",
    "        \n",
    "        for producto in self.inventario:\n",
    "            \n",
    "            if producto[\"nombre\"].lower() == nombre:\n",
    "                \n",
    "                return f\"Nombre: {producto['nombre'].capitalize()}, Precio: ${producto['precio']}, Cantidad: {producto['cantidad']}\"\n",
    "            \n",
    "            else:\n",
    "                pass\n",
    "            \n",
    "        # Si no se encuentra el producto dentro del bucle for, se ejecuta el próximo paso, que seria el return:\n",
    "        return f\"No se ha encontrado ningún producto con el nombre {nombre}.\"\n",
    "    \n",
    "    \n",
    "    def actualizar_stock (self, nombre, cantidad):\n",
    "        \n",
    "        nombre = nombre.lower()\n",
    "        \n",
    "        for producto in self.inventario:\n",
    "            \n",
    "            if producto[\"nombre\"].lower() == nombre:\n",
    "                producto[\"cantidad\"] += cantidad\n",
    "                \n",
    "                return f\"Se ha actualizado el stock de {nombre} a {producto[\"cantidad\"]}.\"\n",
    "\n",
    "            else:\n",
    "                pass\n",
    "            \n",
    "        # Si no se encuentra el producto:\n",
    "        return f\"No se ha encontrado el producto {nombre} en el inventario.\"\n",
    "    \n",
    "    def eliminar_producto (self, nombre):\n",
    "        \n",
    "        nombre = nombre.lower()\n",
    "        \n",
    "        for producto in self.inventario:\n",
    "            \n",
    "            if producto[\"nombre\"] == nombre:\n",
    "                self.inventario.remove(producto)\n",
    "            \n",
    "                return f\"Se ha eliminado correctamente {nombre} del inventario. El inventario actualizado es: {self.inventario}.\"\n",
    "            else:\n",
    "                pass\n",
    "        # Si no se encuentra el producto:\n",
    "        return f\"No hay ningún producto que se llame {nombre} en nuestro inventario.\"\n",
    "    \n",
    "    def calcular_valor_inventario (self):\n",
    "        valor_total_inventario = 0 # creamos una variable nueva para sacar el valor total del inventario\n",
    "        \n",
    "        for producto in self.inventario:\n",
    "            #Sacamos el valor de cada producto:\n",
    "            valor_producto = producto[\"precio\"] * producto[\"cantidad\"]\n",
    "            # Hacemos una suma de todos los productos:\n",
    "            valor_total_inventario += valor_producto\n",
    "            \n",
    "            return f\"El valor total del inventario es de ${valor_total_inventario}.\"\n",
    "    \n",
    "    def realizar_compra (self):\n",
    "        \n",
    "        carrito = [] # Creamos la lista del carrito\n",
    "        coste_compra = 0\n",
    "        \n",
    "        while True: # mientras se siga comprando\n",
    "            \n",
    "            print(\"Nuestro stock es:\")\n",
    "            \n",
    "            for producto in self.inventario:\n",
    "                \n",
    "                print(f\"Nombre: {producto[\"nombre\"].capitalize()}, Precio: ${producto[\"precio\"]}, Cantidad: {producto[\"cantidad\"]}\")\n",
    "\n",
    "            # Aquí preguntamos al usuario lo que quiere comprar:\n",
    "            compra = (input(\"Elige un producto del inventario, cuando no quieras más indica fin:\")).lower()\n",
    "            \n",
    "            if compra == \"fin\":\n",
    "                break # para finalizar el bucle\n",
    "            \n",
    "            # Pregunta al cliente que cantidad se quiere llevar del producto elegido:\n",
    "            \n",
    "            cantidad = int(input(\"Elige la cantidad que te quieres llevar:\"))\n",
    "\n",
    "            encontrado = False # Sirve para controlar el bucle\n",
    "            for producto in self.inventario:\n",
    "                if compra == producto[\"nombre\"].lower():\n",
    "                    encontrado = True # Hemos encontrado el producto\n",
    "                    if cantidad <= producto[\"cantidad\"]:\n",
    "                    \n",
    "                        dict_carrito = {\"nombre\": producto[\"nombre\"], \"precio\": producto[\"precio\"], \"cantidad\": cantidad}\n",
    "                        carrito.append(dict_carrito)\n",
    "                        producto[\"cantidad\"] -= cantidad # restamos de nuestro stock\n",
    "                        coste_compra += producto[\"precio\"] * cantidad\n",
    "\n",
    "            # Si no nos queda en el stock:\n",
    "            \n",
    "            if encontrado == False:\n",
    "                print(f\"No nos queda {compra} en la tienda.\")\n",
    "                \n",
    "        print(\"El carrito de la compra es:\")\n",
    "        \n",
    "        for cosa in carrito:\n",
    "            print(f\"Nombre: {cosa['nombre'].capitalize()}, Precio: ${cosa['precio']}, Cantidad: {cosa['cantidad']}\")\n",
    "        \n",
    "        return f\"El coste total de la compra es: ${coste_compra}\"\n",
    "    \n",
    "    def procesar_pago (self):\n",
    "        \n",
    "        try:\n",
    "            cantidad_total = float(input(\"Indica la cantidad total a pagar:\"))\n",
    "            \n",
    "            print(f\"La cantidad total a pagar son ${cantidad_total}.\")\n",
    "            \n",
    "            cantidad_pago = float(input(\"¿Cuánto dinero me das?\"))\n",
    "            \n",
    "            print(f\"La cantidad que el cliente da es de ${cantidad_pago}.\")\n",
    "        \n",
    "            cambio = 0\n",
    "            \n",
    "            if cantidad_pago >= cantidad_total:\n",
    "                \n",
    "                cambio = cantidad_pago - cantidad_total\n",
    "                return f\"Pago exitoso. El cambio es de ${cambio}.\"\n",
    "            \n",
    "            else:\n",
    "                return f\"Pago incorrecto. Por favor, paga el restante.\"\n",
    "        \n",
    "        except ValueError: # Aquí le estamos diciendo que si nos da un valor que no sea float, nos avise\n",
    "            \n",
    "            return \"Lo que has indicado no es válido. Por favor, indica un número válido.\"\n",
    "            \n",
    "            \n",
    "    def agregar_cliente(self, nombre, email):\n",
    "       \n",
    "        patron_correo = r\"\\b[A-Za-z0-9._%+-]+@[A-Za-z0-9.-]+\\.[A-Z|a-z]{2,}\\b\"\n",
    "        # \\b para que no haya espacios.\n",
    "        # \\.: se pone así porque sino el punto sin la barra es cualquier carácter.\n",
    "        # {2,}: significa que al menos tendrían que ser 2 caracteres para el dominio del email.\n",
    "        \n",
    "        if re.match(patron_correo, email):\n",
    "            if nombre in self.clientes:\n",
    "                print(f\"El cliente {nombre} ya existe.\")\n",
    "            \n",
    "            else:\n",
    "                nuevo_cliente = {\"email\": email, \"compras\": []}\n",
    "                self.clientes[nombre] = nuevo_cliente\n",
    "                \n",
    "                print(\"Se ha agregado correctamente el cliente.\")\n",
    "                print(\"Nuestra lista de clientes es:\", self.clientes)\n",
    "        \n",
    "        else:\n",
    "            print(\"El email ingresado no tiene un formato válido.\")\n",
    "            \n",
    "        \n",
    "    def ver_clientes(self):\n",
    "          \n",
    "        for cliente in self.clientes:\n",
    "            \n",
    "            print(f\"Nombre: {cliente}, Email: {self.clientes[cliente][\"email\"]}\") # Para buscar un valor dentro de un subdiccionario\n",
    "\n",
    "    \n",
    "    def ver_compras_cliente (self, nombre_cliente):\n",
    "        \n",
    "        nombre_cliente = nombre_cliente.capitalize()\n",
    "        \n",
    "        if nombre_cliente in self.clientes.keys():\n",
    "            \n",
    "            print(f\"Nombre: {nombre_cliente}, Compras: {self.clientes[nombre_cliente][\"compras\"]}\")\n",
    "                   \n"
   ]
  },
  {
   "cell_type": "code",
   "execution_count": 389,
   "metadata": {},
   "outputs": [
    {
     "name": "stdout",
     "output_type": "stream",
     "text": [
      "Se ha añadido camiseta a nuestro inventario.\n",
      "Nuestro inventario actualizado es: [{'nombre': 'camiseta', 'precio': 20, 'cantidad': 30}]\n",
      "El producto ya existe, por lo que se ha actualizado la cantidad disponible a 35 camiseta.\n",
      "Se ha añadido pantalones a nuestro inventario.\n",
      "Nuestro inventario actualizado es: [{'nombre': 'camiseta', 'precio': 20, 'cantidad': 35}, {'nombre': 'pantalones', 'precio': 25, 'cantidad': 5}]\n",
      "Se ha añadido zapatos a nuestro inventario.\n",
      "Nuestro inventario actualizado es: [{'nombre': 'camiseta', 'precio': 20, 'cantidad': 35}, {'nombre': 'pantalones', 'precio': 25, 'cantidad': 5}, {'nombre': 'zapatos', 'precio': 30, 'cantidad': 40}]\n",
      "Se ha añadido vestido a nuestro inventario.\n",
      "Nuestro inventario actualizado es: [{'nombre': 'camiseta', 'precio': 20, 'cantidad': 35}, {'nombre': 'pantalones', 'precio': 25, 'cantidad': 5}, {'nombre': 'zapatos', 'precio': 30, 'cantidad': 40}, {'nombre': 'vestido', 'precio': 40, 'cantidad': 10}]\n",
      "El producto ya existe, por lo que se ha actualizado la cantidad disponible a 305 pantalones.\n"
     ]
    }
   ],
   "source": [
    "# Definimos el objeto, en este caso nuestra tienda:\n",
    "mi_tienda = TiendaOnline ()\n",
    "\n",
    "# Agregamos nuestros productos:\n",
    "print(mi_tienda.agregar_producto(\"camiseta\", 20, 30))\n",
    "\n",
    "print(mi_tienda.agregar_producto(\"CAMISETA\", 20, 5)) # Probando que en mayusculas funcione\n",
    "\n",
    "print(mi_tienda.agregar_producto(\"pantalones\", 25, 5))\n",
    "\n",
    "print(mi_tienda.agregar_producto(\"zapatos\", 30, 40))\n",
    "\n",
    "print(mi_tienda.agregar_producto(\"vestido\", 40, 10))\n",
    "\n",
    "print(mi_tienda.agregar_producto(\"pantalones\", 25, 300)) # probando que se actualice la cantidad\n"
   ]
  },
  {
   "cell_type": "code",
   "execution_count": 390,
   "metadata": {},
   "outputs": [
    {
     "name": "stdout",
     "output_type": "stream",
     "text": [
      "Nombre: Camiseta, Precio: $20, Cantidad: 35\n",
      "Nombre: Pantalones, Precio: $25, Cantidad: 305\n",
      "Nombre: Zapatos, Precio: $30, Cantidad: 40\n",
      "Nombre: Vestido, Precio: $40, Cantidad: 10\n"
     ]
    }
   ],
   "source": [
    "# Vamos a ver nuestro inventario:\n",
    "\n",
    "mi_tienda.ver_inventario() # Aquí no se pone print porque en la definición ya has hecho print"
   ]
  },
  {
   "cell_type": "code",
   "execution_count": 391,
   "metadata": {},
   "outputs": [
    {
     "name": "stdout",
     "output_type": "stream",
     "text": [
      "Nombre: Camiseta, Precio: $20, Cantidad: 35\n",
      "Nombre: Vestido, Precio: $40, Cantidad: 10\n"
     ]
    }
   ],
   "source": [
    "# Vamos a buscar un producto en nuestro inventario:\n",
    "\n",
    "print(mi_tienda.buscar_producto(\"camiseta\"))\n",
    "\n",
    "# Comprobamos que hace el bucle y no se queda con el primer nombre:\n",
    "\n",
    "print(mi_tienda.buscar_producto(\"vestido\"))"
   ]
  },
  {
   "cell_type": "code",
   "execution_count": 392,
   "metadata": {},
   "outputs": [
    {
     "name": "stdout",
     "output_type": "stream",
     "text": [
      "Se ha actualizado el stock de camiseta a 235.\n",
      "Se ha actualizado el stock de zapatos a 190.\n",
      "Nombre: Camiseta, Precio: $20, Cantidad: 235\n",
      "Nombre: Pantalones, Precio: $25, Cantidad: 305\n",
      "Nombre: Zapatos, Precio: $30, Cantidad: 190\n",
      "Nombre: Vestido, Precio: $40, Cantidad: 10\n"
     ]
    }
   ],
   "source": [
    "# Vamos a actualizar el stock de los productos:\n",
    "\n",
    "print(mi_tienda.actualizar_stock(\"camiseta\", 200)) \n",
    "print(mi_tienda.actualizar_stock(\"ZAPATOS\", 150))\n",
    "\n",
    "# Vemos el inventario actualizado:\n",
    "mi_tienda.ver_inventario()"
   ]
  },
  {
   "cell_type": "code",
   "execution_count": 393,
   "metadata": {},
   "outputs": [
    {
     "name": "stdout",
     "output_type": "stream",
     "text": [
      "Se ha eliminado correctamente pantalones del inventario. El inventario actualizado es: [{'nombre': 'camiseta', 'precio': 20, 'cantidad': 235}, {'nombre': 'zapatos', 'precio': 30, 'cantidad': 190}, {'nombre': 'vestido', 'precio': 40, 'cantidad': 10}].\n",
      "No hay ningún producto que se llame televisión en nuestro inventario.\n"
     ]
    }
   ],
   "source": [
    "# Vamos a eliminar \"Pantalones\" de nuestro inventario:\n",
    "print(mi_tienda.eliminar_producto(\"Pantalones\"))\n",
    "\n",
    "# Vamos a probar de eliminar un producto que no tengamos:\n",
    "print(mi_tienda.eliminar_producto(\"televisión\"))"
   ]
  },
  {
   "cell_type": "code",
   "execution_count": 394,
   "metadata": {},
   "outputs": [
    {
     "name": "stdout",
     "output_type": "stream",
     "text": [
      "El valor total del inventario es de $4700.\n"
     ]
    }
   ],
   "source": [
    "# Vamos a calcular el valor total del inventario\n",
    "print(mi_tienda.calcular_valor_inventario())"
   ]
  },
  {
   "cell_type": "code",
   "execution_count": 395,
   "metadata": {},
   "outputs": [
    {
     "name": "stdout",
     "output_type": "stream",
     "text": [
      "Nuestro stock es:\n",
      "Nombre: Camiseta, Precio: $20, Cantidad: 235\n",
      "Nombre: Zapatos, Precio: $30, Cantidad: 190\n",
      "Nombre: Vestido, Precio: $40, Cantidad: 10\n",
      "Nuestro stock es:\n",
      "Nombre: Camiseta, Precio: $20, Cantidad: 232\n",
      "Nombre: Zapatos, Precio: $30, Cantidad: 190\n",
      "Nombre: Vestido, Precio: $40, Cantidad: 10\n",
      "Nuestro stock es:\n",
      "Nombre: Camiseta, Precio: $20, Cantidad: 232\n",
      "Nombre: Zapatos, Precio: $30, Cantidad: 190\n",
      "Nombre: Vestido, Precio: $40, Cantidad: 6\n",
      "No nos queda pantalones en la tienda.\n",
      "Nuestro stock es:\n",
      "Nombre: Camiseta, Precio: $20, Cantidad: 232\n",
      "Nombre: Zapatos, Precio: $30, Cantidad: 190\n",
      "Nombre: Vestido, Precio: $40, Cantidad: 6\n",
      "El carrito de la compra es:\n",
      "Nombre: Camiseta, Precio: $20, Cantidad: 3\n",
      "Nombre: Vestido, Precio: $40, Cantidad: 4\n"
     ]
    },
    {
     "data": {
      "text/plain": [
       "'El coste total de la compra es: $220'"
      ]
     },
     "execution_count": 395,
     "metadata": {},
     "output_type": "execute_result"
    }
   ],
   "source": [
    "mi_tienda.realizar_compra()"
   ]
  },
  {
   "cell_type": "code",
   "execution_count": 396,
   "metadata": {},
   "outputs": [
    {
     "name": "stdout",
     "output_type": "stream",
     "text": [
      "La cantidad total a pagar son $200.5.\n",
      "La cantidad que el cliente da es de $250.0.\n"
     ]
    },
    {
     "data": {
      "text/plain": [
       "'Pago exitoso. El cambio es de $49.5.'"
      ]
     },
     "execution_count": 396,
     "metadata": {},
     "output_type": "execute_result"
    }
   ],
   "source": [
    "# Probamos el cambio que habría que darle a un cliente si nos da más dinero del total:\n",
    "\n",
    "mi_tienda.procesar_pago()"
   ]
  },
  {
   "cell_type": "code",
   "execution_count": 397,
   "metadata": {},
   "outputs": [
    {
     "name": "stdout",
     "output_type": "stream",
     "text": [
      "La cantidad total a pagar son $200.5.\n"
     ]
    },
    {
     "data": {
      "text/plain": [
       "'Lo que has indicado no es válido. Por favor, indica un número válido.'"
      ]
     },
     "execution_count": 397,
     "metadata": {},
     "output_type": "execute_result"
    }
   ],
   "source": [
    "# Probamos que cualquier otro valor que no sea float nos de el except:\n",
    "\n",
    "mi_tienda.procesar_pago()"
   ]
  },
  {
   "cell_type": "code",
   "execution_count": 398,
   "metadata": {},
   "outputs": [
    {
     "name": "stdout",
     "output_type": "stream",
     "text": [
      "Se ha agregado correctamente el cliente.\n",
      "Nuestra lista de clientes es: {'Lola': {'email': 'lola1@gmail.com', 'compras': []}}\n",
      "Se ha agregado correctamente el cliente.\n",
      "Nuestra lista de clientes es: {'Lola': {'email': 'lola1@gmail.com', 'compras': []}, 'Jose': {'email': 'jose1@gmail.com', 'compras': []}}\n",
      "Se ha agregado correctamente el cliente.\n",
      "Nuestra lista de clientes es: {'Lola': {'email': 'lola1@gmail.com', 'compras': []}, 'Jose': {'email': 'jose1@gmail.com', 'compras': []}, 'Laura': {'email': 'laura1@gmail.com', 'compras': []}}\n",
      "Se ha agregado correctamente el cliente.\n",
      "Nuestra lista de clientes es: {'Lola': {'email': 'lola1@gmail.com', 'compras': []}, 'Jose': {'email': 'jose1@gmail.com', 'compras': []}, 'Laura': {'email': 'laura1@gmail.com', 'compras': []}, 'Pablo': {'email': 'pablo1@gmail.com', 'compras': []}}\n",
      "El email ingresado no tiene un formato válido.\n",
      "El cliente Pablo ya existe.\n"
     ]
    }
   ],
   "source": [
    "# Agregamos a los clientes:\n",
    "\n",
    "mi_tienda.agregar_cliente(\"Lola\", \"lola1@gmail.com\")\n",
    "mi_tienda.agregar_cliente(\"Jose\", \"jose1@gmail.com\")\n",
    "mi_tienda.agregar_cliente(\"Laura\", \"laura1@gmail.com\")\n",
    "mi_tienda.agregar_cliente(\"Pablo\", \"pablo1@gmail.com\")\n",
    "\n",
    "# Probamos agregar un email con sintaxis incorrecta:\n",
    "\n",
    "mi_tienda.agregar_cliente(\"Maria\", \"maria@gm++.com\")\n",
    "\n",
    "# Probamos a agregar a una persona que ya existe:\n",
    "mi_tienda.agregar_cliente(\"Pablo\", \"pablo1@gmail.com\")"
   ]
  },
  {
   "cell_type": "code",
   "execution_count": 399,
   "metadata": {},
   "outputs": [
    {
     "name": "stdout",
     "output_type": "stream",
     "text": [
      "Nombre: Lola, Email: lola1@gmail.com\n",
      "Nombre: Jose, Email: jose1@gmail.com\n",
      "Nombre: Laura, Email: laura1@gmail.com\n",
      "Nombre: Pablo, Email: pablo1@gmail.com\n"
     ]
    }
   ],
   "source": [
    "# Queremos sacar la lista de clientes con nombre y correo:\n",
    "\n",
    "mi_tienda.ver_clientes()"
   ]
  },
  {
   "cell_type": "code",
   "execution_count": 400,
   "metadata": {},
   "outputs": [
    {
     "name": "stdout",
     "output_type": "stream",
     "text": [
      "Nombre: Pablo, Compras: []\n"
     ]
    }
   ],
   "source": [
    "# Queremos ver las compras que ha hecho un cliente:\n",
    "\n",
    "mi_tienda.ver_compras_cliente(\"Pablo\")"
   ]
  },
  {
   "cell_type": "code",
   "execution_count": 401,
   "metadata": {},
   "outputs": [
    {
     "name": "stdout",
     "output_type": "stream",
     "text": [
      "Nombre: Jose, Compras: []\n"
     ]
    }
   ],
   "source": [
    "# Comprobación del método capitalize()\n",
    "\n",
    "mi_tienda.ver_compras_cliente(\"jose\")"
   ]
  }
 ],
 "metadata": {
  "kernelspec": {
   "display_name": "Python 3",
   "language": "python",
   "name": "python3"
  },
  "language_info": {
   "codemirror_mode": {
    "name": "ipython",
    "version": 3
   },
   "file_extension": ".py",
   "mimetype": "text/x-python",
   "name": "python",
   "nbconvert_exporter": "python",
   "pygments_lexer": "ipython3",
   "version": "3.12.2"
  }
 },
 "nbformat": 4,
 "nbformat_minor": 2
}
